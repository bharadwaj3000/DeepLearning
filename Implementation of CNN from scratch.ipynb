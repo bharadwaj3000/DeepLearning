{
  "nbformat": 4,
  "nbformat_minor": 0,
  "metadata": {
    "colab": {
      "provenance": []
    },
    "kernelspec": {
      "name": "python3",
      "display_name": "Python 3"
    },
    "language_info": {
      "name": "python"
    }
  },
  "cells": [
    {
      "cell_type": "code",
      "execution_count": null,
      "metadata": {
        "id": "yottRfXZLZT5"
      },
      "outputs": [],
      "source": [
        "import torch\n",
        "import numpy as np\n",
        "import matplotlib.pyplot as plt\n",
        "import random\n",
        "from PIL import Image"
      ]
    },
    {
      "cell_type": "code",
      "source": [
        "def func_sigmoid(x):\n",
        "    return 1/(1+np.exp(-1*x))\n",
        "\n",
        "def func_tanh(x):\n",
        "    return (np.exp(x)-np.exp(-1*x))/(np.exp(x)+np.exp(-1*x))\n",
        "\n",
        "# def func_ReLU(x):\n",
        "#     return max(0,x)\n",
        "\n",
        "# def func_PReLU(x, a):\n",
        "#     return max(0,x)+min(0,x*a)"
      ],
      "metadata": {
        "id": "ENbCPlyo2Yal"
      },
      "execution_count": null,
      "outputs": []
    },
    {
      "cell_type": "code",
      "source": [
        "def add_padding(image, padding):\n",
        "  w, h, c = image.shape\n",
        "  output = np.empty([w+2*padding, h+2*padding, c])\n",
        "  for i in range(c):\n",
        "    temp = image[:, :, i]\n",
        "    for j in range(padding):\n",
        "      temp = np.insert(temp, 0, [0], axis=1)\n",
        "      temp = np.insert(temp, len(temp[0]), [0], axis=1)\n",
        "      temp = np.insert(temp, [0], [0], axis=0)\n",
        "      temp = np.insert(temp, [len(temp)], [0], axis=0)\n",
        "    output[:, :, i] = temp\n",
        "  return output\n"
      ],
      "metadata": {
        "id": "DdhbPQCA-cse"
      },
      "execution_count": null,
      "outputs": []
    },
    {
      "cell_type": "markdown",
      "source": [
        "QUESTION - 1\n",
        "\n",
        "\n"
      ],
      "metadata": {
        "id": "5bIsaNekW4mk"
      }
    },
    {
      "cell_type": "code",
      "source": [
        "def convolution_function(input_image, filter_kernel, stride, padding, non_linear_function):\n",
        "  image = input_image\n",
        "  (width, height, channels) = input_image.shape\n",
        "  filter_kernel = np.flip(filter_kernel, 0)\n",
        "  filter_kernel = np.flip(filter_kernel, 1)\n",
        "  k1, k2, channels = filter_kernel.shape\n",
        "  (stride1, stride2) = (stride[0], stride[1])\n",
        "  output_dim1, output_dim2 = int((width - k1 + 2*padding) / stride1) + 1, int((height - k2 + 2*padding) / stride2) + 1\n",
        "  # print(output_dim1, output_dim2)\n",
        "  output = np.empty([output_dim1, output_dim2, channels])\n",
        "  # print(image.shape)\n",
        "  image = add_padding(image, padding)\n",
        "  # print(image.shape)\n",
        "  for c in range(channels):\n",
        "    for i in range(0, output_dim1):\n",
        "      for j in range(0, output_dim2):\n",
        "        a = i * stride1\n",
        "        b = j * stride2\n",
        "        output[i][j][c] = (filter_kernel[:, :, c]*image[a:a + k1, b:b + k2, c]).sum()\n",
        "  \n",
        "  new_output = np.sum(output, axis=2)\n",
        "  if non_linear_function == \"sigmoid\":\n",
        "    for i in range(output_dim1):\n",
        "      for j in range(output_dim2):\n",
        "        new_output[i][j] = func_sigmoid(new_output[i][j])\n",
        "  elif non_linear_function == \"tanh\":\n",
        "    for i in range(output_dim1):\n",
        "      for j in range(output_dim2):\n",
        "        new_output[i][j] = func_tanh(new_output[i][j])\n",
        "  elif non_linear_function == \"ReLU\":\n",
        "    for i in range(output_dim1):\n",
        "      for j in range(output_dim2):\n",
        "        new_output[i][j] = max(0, new_output[i][j])\n",
        "    # new_output = func_ReLU(new_output)\n",
        "  return new_output\n",
        "  \n",
        "      "
      ],
      "metadata": {
        "id": "RhD0LCVsMT_M"
      },
      "execution_count": null,
      "outputs": []
    },
    {
      "cell_type": "code",
      "source": [
        "# img = np.asarray(Image.open(\"orst.png\"))\n",
        "newimg = plt.imread(\"airplane3.png\")\n",
        "plt.imshow(newimg)\n",
        "# print(img.shape)\n",
        "ker = np.random.rand(2, 3, 3)\n",
        "stride = np.array([2, 1])\n",
        "padding = 1\n",
        "outimg = convolution_function(newimg, ker, stride, padding, \"ReLU\")\n",
        "plt.imshow(outimg)"
      ],
      "metadata": {
        "colab": {
          "base_uri": "https://localhost:8080/",
          "height": 244
        },
        "id": "g5H5jcswG_o-",
        "outputId": "385937a6-8b14-422c-961d-acee0da4dbc3"
      },
      "execution_count": null,
      "outputs": [
        {
          "output_type": "execute_result",
          "data": {
            "text/plain": [
              "<matplotlib.image.AxesImage at 0x7fcd900e5340>"
            ]
          },
          "metadata": {},
          "execution_count": 7
        },
        {
          "output_type": "display_data",
          "data": {
            "text/plain": [
              "<Figure size 432x288 with 1 Axes>"
            ],
            "image/png": "[encoded data removed]"
          },
          "metadata": {
            "needs_background": "light"
          }
        }
      ]
    },
    {
      "cell_type": "markdown",
      "source": [
        "QUESTION - 2"
      ],
      "metadata": {
        "id": "cs3KsRDYW95H"
      }
    },
    {
      "cell_type": "code",
      "source": [
        "def pooling_function(conv_func_output, pooling_type, filter_size, stride):\n",
        "  width, height = conv_func_output.shape\n",
        "  stride1, stride2 = stride[0], stride[1]\n",
        "  k1, k2 = filter_size[0], filter_size[1]\n",
        "  output_dim1, output_dim2 = int((width - k1) / stride1) + 1, int((height - k2) / stride2) + 1\n",
        "  output = np.empty([output_dim1, output_dim2])\n",
        "  for i in range(0, output_dim1):\n",
        "      for j in range(0, output_dim2):\n",
        "        a = i * stride1\n",
        "        b = j * stride2\n",
        "        if pooling_type == \"max\":\n",
        "          output[i][j] = (conv_func_output[a:a + k1, b:b + k2]).max()\n",
        "        elif pooling_type == \"avg\":\n",
        "          output[i][j] = np.mean((conv_func_output[a:a + k1, b:b + k2]))\n",
        "  return output\n",
        "\n",
        "  "
      ],
      "metadata": {
        "id": "8Fv-B-yKPMCo"
      },
      "execution_count": null,
      "outputs": []
    },
    {
      "cell_type": "code",
      "source": [
        "filt = np.array([3, 3])\n",
        "stride = np.array([1, 1])\n",
        "plt.imshow(pooling_function(outimg, \"avg\", filt, stride))"
      ],
      "metadata": {
        "colab": {
          "base_uri": "https://localhost:8080/",
          "height": 233
        },
        "id": "hEUwHxeaSVWt",
        "outputId": "10742832-9432-4f9b-97a8-b78a765ffe58"
      },
      "execution_count": null,
      "outputs": [
        {
          "output_type": "execute_result",
          "data": {
            "text/plain": [
              "<matplotlib.image.AxesImage at 0x7fcd8de86e50>"
            ]
          },
          "metadata": {},
          "execution_count": 9
        },
        {
          "output_type": "display_data",
          "data": {
            "text/plain": [
              "<Figure size 432x288 with 1 Axes>"
            ],
            "image/png": "[encoded data removed]"
          },
          "metadata": {
            "needs_background": "light"
          }
        }
      ]
    },
    {
      "cell_type": "markdown",
      "source": [
        "QUESTION - 3"
      ],
      "metadata": {
        "id": "UMbmbrWUXGLk"
      }
    },
    {
      "cell_type": "code",
      "source": [
        "def conv_layer_func(image, number_of_kernels, kernel_dim, stride, padding, non_linear_function):\n",
        "  width, height, channels = image.shape\n",
        "  k1, k2, k3 = kernel_dim[0], kernel_dim[1], kernel_dim[2]\n",
        "  stride1, stride2 = stride[0], stride[1]\n",
        "  output_dim1, output_dim2 = int((width - k1 + 2*padding) / stride1) + 1, int((height - k2 + 2*padding) / stride2) + 1\n",
        "  output = np.empty([output_dim1, output_dim2, number_of_kernels])\n",
        "  for i in range(number_of_kernels):\n",
        "    kernel = np.random.rand(k1, k2, k3)\n",
        "    # print(\"hii\")\n",
        "    output[:, :, i] = convolution_function(image, kernel, stride, padding, non_linear_function)\n",
        "\n",
        "  return output"
      ],
      "metadata": {
        "id": "IWz1WN0PS4MJ"
      },
      "execution_count": null,
      "outputs": []
    },
    {
      "cell_type": "code",
      "source": [
        "padding = 1\n",
        "kern = np.array([3, 1, 3])\n",
        "stride = np.array([1, 1])\n",
        "plt.imshow(conv_layer_func(newimg, 3, kern, stride, padding, \"sigmoid\"))"
      ],
      "metadata": {
        "colab": {
          "base_uri": "https://localhost:8080/",
          "height": 284
        },
        "id": "zYb6AaMbVtyh",
        "outputId": "d3decd48-13f7-4a33-b0b4-948251fed66d"
      },
      "execution_count": null,
      "outputs": [
        {
          "output_type": "execute_result",
          "data": {
            "text/plain": [
              "<matplotlib.image.AxesImage at 0x7fcd8de00430>"
            ]
          },
          "metadata": {},
          "execution_count": 11
        },
        {
          "output_type": "display_data",
          "data": {
            "text/plain": [
              "<Figure size 432x288 with 1 Axes>"
            ],
            "image/png": "[encoded data removed]"
          },
          "metadata": {
            "needs_background": "light"
          }
        }
      ]
    },
    {
      "cell_type": "markdown",
      "source": [
        "QUESTION - 4"
      ],
      "metadata": {
        "id": "olnVTuhsXKEY"
      }
    },
    {
      "cell_type": "code",
      "source": [
        "def pooling_layer_func(image, pooling_type, filter_size, stride):\n",
        "  width, height, depth = image.shape\n",
        "  if pooling_type == \"GAP\":\n",
        "    for i in range(depth):\n",
        "      output = np.empty([depth])\n",
        "      output[i] = np.mean(image[:, :, i])\n",
        "      return output\n",
        "  \n",
        "  stride1, stride2 = stride[0], stride[1]\n",
        "  k1, k2 = filter_size[0], filter_size[1]\n",
        "  output_dim1, output_dim2 = int((width - k1) / stride1) + 1, int((height - k2) / stride2) + 1\n",
        "  output = np.empty([output_dim1, output_dim2, depth])\n",
        "  \n",
        "  for i in range(depth):\n",
        "    output[:, :, i] = pooling_function(image[:, :, i], pooling_type, filter_size, stride)\n",
        "    #print(pooling_function(image[:, :, i], pooling_type, filter_size, stride))\n",
        "  \n",
        "  return output"
      ],
      "metadata": {
        "id": "AIVA0t27Z90k"
      },
      "execution_count": null,
      "outputs": []
    },
    {
      "cell_type": "code",
      "source": [
        "a = (pooling_layer_func(newimg, \"max\", kern, stride))\n",
        "plt.imshow(a)"
      ],
      "metadata": {
        "colab": {
          "base_uri": "https://localhost:8080/",
          "height": 284
        },
        "id": "OQNAHKP8ffgn",
        "outputId": "ae2ce4b4-0c05-4246-c84b-70474f526331"
      },
      "execution_count": null,
      "outputs": [
        {
          "output_type": "execute_result",
          "data": {
            "text/plain": [
              "<matplotlib.image.AxesImage at 0x7fcd8dde32e0>"
            ]
          },
          "metadata": {},
          "execution_count": 13
        },
        {
          "output_type": "display_data",
          "data": {
            "text/plain": [
              "<Figure size 432x288 with 1 Axes>"
            ],
            "image/png": "[encoded data removed]"
          },
          "metadata": {
            "needs_background": "light"
          }
        }
      ]
    },
    {
      "cell_type": "markdown",
      "source": [
        "QUESTION - 5"
      ],
      "metadata": {
        "id": "jANHudj_XMSN"
      }
    },
    {
      "cell_type": "code",
      "source": [
        "def flattening(image, output_len):\n",
        "  image = image.reshape(-1)\n",
        "  weights = np.random.rand(output_len, len(image))\n",
        "  return weights@image"
      ],
      "metadata": {
        "id": "jcHZjcWEk54k"
      },
      "execution_count": null,
      "outputs": []
    },
    {
      "cell_type": "code",
      "source": [
        "flattening(newimg, 10)"
      ],
      "metadata": {
        "colab": {
          "base_uri": "https://localhost:8080/"
        },
        "id": "16g0qz_DwmS2",
        "outputId": "0fe46d08-87d2-4d71-c76b-037cf984c6e9"
      },
      "execution_count": null,
      "outputs": [
        {
          "output_type": "execute_result",
          "data": {
            "text/plain": [
              "array([672.29456639, 682.89157189, 680.93187521, 682.74398256,\n",
              "       687.3814994 , 677.36736269, 682.76705922, 693.44116357,\n",
              "       683.71916256, 683.99379396])"
            ]
          },
          "metadata": {},
          "execution_count": 15
        }
      ]
    },
    {
      "cell_type": "markdown",
      "source": [
        "QUESTION - 6"
      ],
      "metadata": {
        "id": "oxLjNpIrXOUJ"
      }
    },
    {
      "cell_type": "code",
      "source": [
        "def MLP(input, number_of_hid_layers, size_of_layers, non_linear_function, output_size, used_softmax):\n",
        "  \n",
        "  weights = np.random.rand(number_of_hid_layers-1, size_of_layers, size_of_layers)\n",
        "  input_weights = np.random.rand(size_of_layers, len(input))\n",
        "  b = np.random.rand(size_of_layers)\n",
        "  last_weights = np.random.rand(output_size, size_of_layers)\n",
        "  output = input_weights@input + b\n",
        "  if non_linear_function == \"sigmoid\":\n",
        "    for i in range(len(output)):\n",
        "      output[i] = func_sigmoid(output[i])\n",
        "  elif non_linear_function == \"tanh\":\n",
        "    for i in range(len(output)):\n",
        "      output[i] = func_tanh(output[i])\n",
        "  elif non_linear_function == \"ReLU\":\n",
        "    for i in range(len(output)):\n",
        "        output[i] = max(0, output[i])\n",
        "    # new_output = func_ReLU(new_output)\n",
        "  # print(output)\n",
        "  # print(output)\n",
        "  for i in range(number_of_hid_layers-1):\n",
        "    b = np.random.rand(size_of_layers)\n",
        "    output = weights[i]@output + b\n",
        "    if non_linear_function == \"sigmoid\":\n",
        "      for i in range(len(output)):\n",
        "        output[i] = func_sigmoid(output[i])\n",
        "    elif non_linear_function == \"tanh\":\n",
        "      for i in range(len(output)):\n",
        "        output[i] = func_tanh(output[i])\n",
        "    elif non_linear_function == \"ReLU\":\n",
        "      for i in range(len(output)):\n",
        "          output[i] = max(0, output[i])\n",
        "    # new_output = func_ReLU(new_output)\n",
        "    # print(output)\n",
        "  b = np.random.rand(output_size)\n",
        "  output = last_weights@output + b\n",
        "  \n",
        "  if non_linear_function == \"sigmoid\":\n",
        "    for i in range(len(output)):\n",
        "      output[i] = func_sigmoid(output[i])\n",
        "  elif non_linear_function == \"tanh\":\n",
        "    for i in range(len(output)):\n",
        "      output[i] = func_tanh(output[i])\n",
        "  elif non_linear_function == \"ReLU\":\n",
        "    for i in range(len(output)):\n",
        "        output[i] = max(0, output[i])\n",
        "    # new_output = func_ReLU(new_output)\n",
        "  # print(output)\n",
        "  if used_softmax:\n",
        "    output = np.exp(output) / np.exp(output).sum()\n",
        "    return output\n",
        "  else:\n",
        "    return output"
      ],
      "metadata": {
        "id": "ixZwK1t8xelZ"
      },
      "execution_count": null,
      "outputs": []
    },
    {
      "cell_type": "markdown",
      "source": [
        "QUESTION - 7"
      ],
      "metadata": {
        "id": "LMAbqeOfXR3x"
      }
    },
    {
      "cell_type": "code",
      "source": [
        "newimg = plt.imread(\"airplane3.png\")\n",
        "def FeedForward(image):\n",
        "  output = conv_layer_func(image, 16, np.array([3, 3, image.shape[2]]), np.array([1, 1]), 0, \"sigmoid\")\n",
        "  output = pooling_layer_func(output, \"max\", np.array([2, 2]), np.array([2, 2]))\n",
        "  output = conv_layer_func(output, 8, np.array([3, 3, image.shape[2]]), np.array([1, 1]), 0, \"sigmoid\")\n",
        "  output = pooling_layer_func(output, \"max\", np.array([2, 2]), np.array([2, 2]))\n",
        "  output = pooling_layer_func(output, \"GAP\", np.array([2, 2]), np.array([2, 2]))\n",
        "  output = MLP(output, 1, len(output), \"sigmoid\", 10, True)\n",
        "  return output\n"
      ],
      "metadata": {
        "id": "LKKIJhMp9_Za"
      },
      "execution_count": null,
      "outputs": []
    },
    {
      "cell_type": "code",
      "source": [
        "FeedForward(newimg)"
      ],
      "metadata": {
        "colab": {
          "base_uri": "https://localhost:8080/"
        },
        "id": "AV4Jc8sYF3A3",
        "outputId": "4d3dae36-67b6-4f6a-fe52-2e58386e11f1"
      },
      "execution_count": null,
      "outputs": [
        {
          "output_type": "execute_result",
          "data": {
            "text/plain": [
              "array([0.09974416, 0.10081779, 0.10031109, 0.10095384, 0.10129185,\n",
              "       0.10142658, 0.10150875, 0.10024033, 0.09305467, 0.10065094])"
            ]
          },
          "metadata": {},
          "execution_count": 18
        }
      ]
    },
    {
      "cell_type": "markdown",
      "source": [
        "QUESTION - 8A"
      ],
      "metadata": {
        "id": "0QBmMcMRvjoD"
      }
    },
    {
      "cell_type": "code",
      "source": [
        "images = [\"airplane3.png\", \"automobile3.png\", \"bird7.png\", \"cat2.png\", \"deer2.png\", \"dog4.png\", \"frog4.png\", \"horse2.png\", \"ship7.png\", \"truck2.png\"]\n",
        "for i in images:\n",
        "  temp_image = plt.imread(i)\n",
        "  print(FeedForward(temp_image))"
      ],
      "metadata": {
        "colab": {
          "base_uri": "https://localhost:8080/"
        },
        "id": "3Mk1VYDSUHXf",
        "outputId": "89abb35f-758f-42ea-8e8f-405f92b36959"
      },
      "execution_count": null,
      "outputs": [
        {
          "output_type": "stream",
          "name": "stdout",
          "text": [
            "[0.10050045 0.10064396 0.09748983 0.10050398 0.10074904 0.10080368\n",
            " 0.10022866 0.10083657 0.09973977 0.09850405]\n",
            "[0.09951962 0.10006327 0.1004706  0.10051971 0.10078937 0.09913254\n",
            " 0.09883853 0.10006877 0.09990465 0.10069295]\n",
            "[0.09932627 0.10073768 0.09979952 0.10033578 0.09953323 0.10043636\n",
            " 0.09928139 0.09996104 0.10020257 0.10038615]\n",
            "[0.10103839 0.09992483 0.10018884 0.09433527 0.10116585 0.10159985\n",
            " 0.10108636 0.09870861 0.10091659 0.10103542]\n",
            "[0.10006004 0.10013519 0.09899756 0.09990765 0.1001107  0.09955393\n",
            " 0.10037495 0.10040335 0.10065232 0.09980431]\n",
            "[0.10055561 0.10031121 0.09819166 0.10007307 0.10073282 0.10047884\n",
            " 0.09982888 0.10072486 0.10045993 0.09864311]\n",
            "[0.1005526  0.10075483 0.10022911 0.1010474  0.10010628 0.098426\n",
            " 0.09907198 0.10010247 0.09967053 0.10003881]\n",
            "[0.10093007 0.10054022 0.10088251 0.10111943 0.09909429 0.09937042\n",
            " 0.0995232  0.1011244  0.0995344  0.09788104]\n",
            "[0.10052215 0.10015873 0.10041922 0.10045543 0.10037871 0.10028629\n",
            " 0.09999875 0.10040556 0.10032585 0.09704931]\n",
            "[0.09494366 0.10226598 0.09763295 0.10104475 0.10091354 0.1007353\n",
            " 0.0996421  0.10025357 0.10180149 0.10076667]\n"
          ]
        }
      ]
    },
    {
      "cell_type": "markdown",
      "source": [
        "I don't see any trend in the output vectors that I obtained. "
      ],
      "metadata": {
        "id": "nK-g0jmm6bDR"
      }
    },
    {
      "cell_type": "markdown",
      "source": [
        "QUESTION - 8B"
      ],
      "metadata": {
        "id": "_GrTA1Pwv4il"
      }
    },
    {
      "cell_type": "code",
      "source": [
        "images = [\"airplane3.png\", \"airplane4.png\", \"airplane10.png\", \"automobile1.png\", \"automobile10.png\", \"automobile3.png\", \"bird1.png\", \"bird2.png\", \"bird7.png\", \"cat2.png\", \"cat3.png\", \"cat4.png\", \"deer1.png\", \"deer2.png\", \"deer8.png\", \"dog3.png\", \"dog4.png\", \"dog10.png\", \"frog1.png\", \"frog2.png\", \"frog4.png\", \"horse2.png\", \"horse6.png\", \"horse7.png\", \"ship2.png\", \"ship5.png\", \"ship7.png\", \"truck1.png\", \"truck2.png\", \"truck5.png\"]\n",
        "result = np.empty([30, 10])\n",
        "\n",
        "for i in range(len(images)):\n",
        "  temp = plt.imread(images[i])\n",
        "  output = conv_layer_func(temp, 16, np.array([3, 3, temp.shape[2]]), np.array([1, 1]), 0, \"sigmoid\")\n",
        "  output = pooling_layer_func(output, \"max\", np.array([2, 2]), np.array([2, 2]))\n",
        "  output = conv_layer_func(output, 8, np.array([3, 3, temp.shape[2]]), np.array([1, 1]), 0, \"sigmoid\")\n",
        "  output = pooling_layer_func(output, \"max\", np.array([2, 2]), np.array([2, 2]))\n",
        "  output = flattening(output, 10)\n",
        "  result[i] = output\n",
        "\n",
        "\n",
        "\n",
        "print(result)\n",
        "\n"
      ],
      "metadata": {
        "colab": {
          "base_uri": "https://localhost:8080/"
        },
        "id": "P9YZ9xM_v6AV",
        "outputId": "0ec5b9a1-fd91-4ac9-9f82-fc99f6de75b7"
      },
      "execution_count": null,
      "outputs": [
        {
          "output_type": "stream",
          "name": "stdout",
          "text": [
            "[[140.67540221 152.33602253 162.46406982 144.07012761 148.54678437\n",
            "  139.99595675 147.23936737 150.33893005 145.1558789  148.5608854 ]\n",
            " [141.75987763 144.36009576 145.43559303 143.94290811 143.67772435\n",
            "  142.65437714 148.02317185 141.060743   148.168277   150.61938516]\n",
            " [152.45057937 151.01141177 144.14033314 138.54348195 149.03945832\n",
            "  141.33833533 139.34528473 147.91101008 147.87577149 139.34563912]\n",
            " [137.34636135 138.18975399 147.8437739  146.96013741 144.55674102\n",
            "  138.92333238 145.30785355 138.68048984 144.03904292 144.61481241]\n",
            " [143.58528337 145.86240927 140.09541639 147.77240262 146.01369583\n",
            "  143.87770841 139.99145053 147.72304651 147.24295231 134.89391855]\n",
            " [136.81391835 147.62201399 136.12243061 144.59055999 155.37027248\n",
            "  145.74608657 149.87911685 140.02632578 149.94700809 148.7146212 ]\n",
            " [143.98136657 139.03255919 147.99847843 143.68081224 143.50578671\n",
            "  148.65200994 139.63752663 149.0119127  144.40681014 139.96721212]\n",
            " [135.93545491 146.78534452 138.3668971  143.19113555 137.54914459\n",
            "  142.98172359 155.43825477 140.27914938 138.83399632 148.05594653]\n",
            " [134.46648098 148.42734191 145.00175359 142.30818079 144.0253444\n",
            "  153.51853877 143.10602502 148.45364039 143.60596241 139.54082579]\n",
            " [151.31842907 148.527328   147.38078378 146.66487051 143.64241359\n",
            "  142.07366152 147.5980668  147.76603621 146.30745493 145.69572987]\n",
            " [140.36107446 153.57551822 134.02763239 142.73332449 146.40717213\n",
            "  146.14274003 146.5794806  138.47620274 134.80508862 143.22590982]\n",
            " [138.10886461 141.39183178 139.78612197 144.85275688 144.24635128\n",
            "  150.47404932 158.04892133 137.01807765 150.11733985 147.73211522]\n",
            " [146.04703832 145.70470075 141.52160855 146.16772117 148.18819204\n",
            "  145.98592075 151.15759343 142.00698766 142.98762767 144.25058002]\n",
            " [144.21127261 140.27979585 144.99893996 140.20672347 145.13005741\n",
            "  144.69539625 149.52703026 144.57378764 137.27885087 148.59447347]\n",
            " [141.29462552 141.43505401 137.3671789  146.02604732 145.40549883\n",
            "  143.73412375 139.24695192 131.56430546 142.08457753 145.90186861]\n",
            " [141.49512867 143.29509218 147.99660297 144.76838171 141.25762256\n",
            "  136.62661853 146.21474608 148.02291548 150.2249594  150.57846907]\n",
            " [148.24673822 144.76519716 138.09099856 146.04211478 137.5759831\n",
            "  143.05336225 142.65862325 140.55070745 141.873809   147.81605305]\n",
            " [144.17317895 133.49665518 141.94404706 146.54166011 139.2814717\n",
            "  153.79251107 143.93910352 138.28158411 146.74164237 152.51731244]\n",
            " [142.13966444 136.37011821 154.15017045 146.32260123 157.04958978\n",
            "  143.63369968 152.51545282 144.00685385 151.36847601 147.24685747]\n",
            " [151.02879998 143.22910321 143.79657144 142.75849638 146.46862812\n",
            "  136.39573778 141.83498584 148.21449699 146.55400632 145.88615398]\n",
            " [142.43898018 144.95109727 143.48686194 146.3872844  139.90454858\n",
            "  135.67252065 138.0166712  136.64584448 137.4855392  144.85399808]\n",
            " [140.01075875 135.42986151 152.6706095  154.01676494 141.79816343\n",
            "  141.62320957 138.09269721 142.2390808  150.6689756  143.04676212]\n",
            " [141.36713612 137.93582019 147.34019028 139.14973424 135.69454019\n",
            "  144.04247361 145.65042977 147.14820527 148.5210675  135.98488928]\n",
            " [143.00407522 148.40060315 144.04032456 142.84333271 141.4064161\n",
            "  146.52267437 159.99681765 145.92185165 148.1888329  145.42747952]\n",
            " [141.93371712 145.06451433 151.57978472 147.24395038 134.9689163\n",
            "  142.08218244 140.52603025 146.16994323 142.66310726 142.9235459 ]\n",
            " [143.7379969  145.97955857 142.76156372 154.08640278 137.21398805\n",
            "  154.73759722 149.25304339 140.45998855 149.88413561 149.15021153]\n",
            " [141.40153619 144.94397401 143.80614102 137.50511757 139.93847056\n",
            "  146.35706159 137.51038604 149.64791187 148.75243126 141.83373733]\n",
            " [148.08578998 148.51501912 141.727528   140.603859   145.34399753\n",
            "  143.84706752 147.50200349 141.75198188 149.12157238 145.74069868]\n",
            " [144.15739438 143.35568918 142.31733285 143.93704341 144.85161056\n",
            "  138.96685895 140.14848317 143.80562986 137.54004703 141.76673049]\n",
            " [148.86561669 143.79842681 142.28938874 140.77257747 137.8197378\n",
            "  142.1494152  136.39833414 140.61051845 144.19602191 149.83073583]]\n"
          ]
        }
      ]
    },
    {
      "cell_type": "code",
      "source": [
        "from sklearn.decomposition import PCA\n",
        "\n",
        "reduced_result = PCA(n_components=2)\n",
        "reduced_result.fit(result)\n",
        "result = reduced_result.transform(result)\n",
        "\n",
        "print(result)"
      ],
      "metadata": {
        "colab": {
          "base_uri": "https://localhost:8080/"
        },
        "id": "sNv6_5-P3Axw",
        "outputId": "8a1fd4a2-41c4-4c46-e085-870c45840668"
      },
      "execution_count": null,
      "outputs": [
        {
          "output_type": "stream",
          "name": "stdout",
          "text": [
            "[[ -9.44341724  14.77633502]\n",
            " [  3.15656371   3.2920928 ]\n",
            " [ -9.75623827  -1.94784562]\n",
            " [ -0.36490531   1.45036966]\n",
            " [ -5.5017974   -3.42979637]\n",
            " [ 11.76940428   3.2536492 ]\n",
            " [ -7.77965445   0.47421083]\n",
            " [ 12.02353685  -2.9919848 ]\n",
            " [  0.09772143   0.69866027]\n",
            " [ -3.98951228   3.42645379]\n",
            " [  9.33128042 -10.99647393]\n",
            " [ 16.08985104   5.82507491]\n",
            " [  5.69527787   1.04888794]\n",
            " [  2.52082798   0.2722207 ]\n",
            " [  5.09428475 -10.70353568]\n",
            " [ -4.18568489   5.81954466]\n",
            " [  1.44484636  -9.38812987]\n",
            " [  6.54919701  -1.8804783 ]\n",
            " [  0.5395509   17.42138478]\n",
            " [ -8.04611487  -0.60119327]\n",
            " [ -3.88844633 -10.99147126]\n",
            " [ -8.67994834   4.0108562 ]\n",
            " [ -6.18869209   1.27584625]\n",
            " [  8.65136145   8.34119474]\n",
            " [ -8.79096592  -1.26835504]\n",
            " [  8.82075868   1.85705447]\n",
            " [ -7.5686983   -2.62124327]\n",
            " [  2.028584     0.15979547]\n",
            " [ -4.91981609  -7.36002684]\n",
            " [ -4.70915494  -9.22309742]]\n"
          ]
        }
      ]
    },
    {
      "cell_type": "code",
      "source": [
        "# result = result.T\n",
        "plt.scatter(result[0], result[1])\n",
        "for i in range(len(result)):\n",
        "  plt.scatter(result[i:i+3, 0], result[i:i+3, 1])"
      ],
      "metadata": {
        "colab": {
          "base_uri": "https://localhost:8080/",
          "height": 265
        },
        "id": "vPzXAHOg3se0",
        "outputId": "8cad219e-6f6a-486d-991b-aadca002ed5a"
      },
      "execution_count": null,
      "outputs": [
        {
          "output_type": "display_data",
          "data": {
            "text/plain": [
              "<Figure size 432x288 with 1 Axes>"
            ],
            "image/png": "[encoded data removed]"
          },
          "metadata": {
            "needs_background": "light"
          }
        }
      ]
    },
    {
      "cell_type": "markdown",
      "source": [
        "No, the vectors do not show any discriminability because of the random initialisation and more importantly because there was no training, where we are supposed to get a single feature fired up more than the other 9 features, we get all the values in each vector almost equal to each other. "
      ],
      "metadata": {
        "id": "0B5chRu_6njA"
      }
    }
  ]
}