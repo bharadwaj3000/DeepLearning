{
  "nbformat": 4,
  "nbformat_minor": 0,
  "metadata": {
    "colab": {
      "provenance": []
    },
    "kernelspec": {
      "name": "python3",
      "display_name": "Python 3"
    },
    "language_info": {
      "name": "python"
    }
  },
  "cells": [
    {
      "cell_type": "markdown",
      "source": [
        "Q1"
      ],
      "metadata": {
        "id": "GFxHH-dDIv4-"
      }
    },
    {
      "cell_type": "code",
      "execution_count": 1,
      "metadata": {
        "id": "AUunVPsOMhQB"
      },
      "outputs": [],
      "source": [
        "import torch\n",
        "import numpy as np\n",
        "import matplotlib.pyplot as plt\n",
        "import random"
      ]
    },
    {
      "cell_type": "code",
      "source": [
        "P1=torch.normal(0.0, 1.0,size=[5000,2])\n",
        "P2=torch.normal(3.0, 1.0,size=[5000,2])\n",
        "P1.type()"
      ],
      "metadata": {
        "colab": {
          "base_uri": "https://localhost:8080/",
          "height": 35
        },
        "id": "Dqb8bqcRXrVM",
        "outputId": "40e5001e-3b52-4dc2-e69d-f9e6c6fba75c"
      },
      "execution_count": 2,
      "outputs": [
        {
          "output_type": "execute_result",
          "data": {
            "text/plain": [
              "'torch.FloatTensor'"
            ],
            "application/vnd.google.colaboratory.intrinsic+json": {
              "type": "string"
            }
          },
          "metadata": {},
          "execution_count": 2
        }
      ]
    },
    {
      "cell_type": "code",
      "source": [
        "plt.scatter(P1[:,0], P1[:,1])\n",
        "plt.scatter(P2[:,0], P2[:,1])"
      ],
      "metadata": {
        "colab": {
          "base_uri": "https://localhost:8080/",
          "height": 283
        },
        "id": "8SDRbhF-eDyC",
        "outputId": "1bb5ab62-3e06-40d1-fbc4-a20c27a9140c"
      },
      "execution_count": 3,
      "outputs": [
        {
          "output_type": "execute_result",
          "data": {
            "text/plain": [
              "<matplotlib.collections.PathCollection at 0x7feb4b1c51c0>"
            ]
          },
          "metadata": {},
          "execution_count": 3
        },
        {
          "output_type": "display_data",
          "data": {
            "text/plain": [
              "<Figure size 432x288 with 1 Axes>"
            ],
            "image/png": "[encoded data removed]"
          },
          "metadata": {
            "needs_background": "light"
          }
        }
      ]
    },
    {
      "cell_type": "code",
      "source": [
        "gamma = 0.01\n",
        "w = [random.uniform(-0.8, -1.2), random.uniform(2, 4)]\n",
        "x = np.linspace(0,5,100)\n",
        "plt.plot(x, w[0]*x + w[1])\n",
        "print(w)"
      ],
      "metadata": {
        "colab": {
          "base_uri": "https://localhost:8080/",
          "height": 286
        },
        "id": "QH00vgzQaxdj",
        "outputId": "cd31b14e-e2f3-43ef-e441-84bcbf8415ef"
      },
      "execution_count": 4,
      "outputs": [
        {
          "output_type": "stream",
          "name": "stdout",
          "text": [
            "[-1.1958170972703055, 3.7411927459403396]\n"
          ]
        },
        {
          "output_type": "display_data",
          "data": {
            "text/plain": [
              "<Figure size 432x288 with 1 Axes>"
            ],
            "image/png": "[encoded data removed]"
          },
          "metadata": {
            "needs_background": "light"
          }
        }
      ]
    },
    {
      "cell_type": "code",
      "source": [
        "dset1 = []\n",
        "dset2 = []\n",
        "dset1size = 0\n",
        "for i in P1:\n",
        "  if (w[0]*i[0] - i[1] + w[1])/np.sqrt(w[0]**2 + w[1]**2) >= gamma:\n",
        "    i = np.array(i)\n",
        "    dset1.append(i)\n",
        "    dset1size += 1\n",
        "  if dset1size == 1000:\n",
        "    break\n"
      ],
      "metadata": {
        "id": "gsgwhAZhFgab"
      },
      "execution_count": 5,
      "outputs": []
    },
    {
      "cell_type": "code",
      "source": [
        "dset2size = 0\n",
        "for i in P2:\n",
        "  if np.abs((w[0]*i[0] - i[1] + w[1])/np.sqrt(w[0]**2 + w[1]**2)) >= gamma and (w[0]*i[0] - i[1] + w[1])/np.sqrt(w[0]**2 + w[1]**2) <= 0:\n",
        "    i = np.array(i)\n",
        "    dset2.append(i)\n",
        "    dset2size += 1\n",
        "  if dset2size == 1000:\n",
        "    break\n",
        "\n",
        "print(len(dset2))\n",
        "print(len(dset1))"
      ],
      "metadata": {
        "colab": {
          "base_uri": "https://localhost:8080/"
        },
        "id": "bOvZtQhVL-WK",
        "outputId": "0fffc2f5-0707-4210-cb2a-af994da43e4d"
      },
      "execution_count": 6,
      "outputs": [
        {
          "output_type": "stream",
          "name": "stdout",
          "text": [
            "1000\n",
            "1000\n"
          ]
        }
      ]
    },
    {
      "cell_type": "code",
      "source": [
        "dset1 = np.array(dset1)\n",
        "dset2 = np.array(dset2)\n",
        "\n",
        "plt.scatter(dset1[:,0], dset1[:,1])\n",
        "plt.scatter(dset2[:,0], dset2[:,1])"
      ],
      "metadata": {
        "colab": {
          "base_uri": "https://localhost:8080/",
          "height": 283
        },
        "id": "ehuVStFIHm9Y",
        "outputId": "791adb6e-7c90-4d3a-cfa4-d5c73d70500d"
      },
      "execution_count": 7,
      "outputs": [
        {
          "output_type": "execute_result",
          "data": {
            "text/plain": [
              "<matplotlib.collections.PathCollection at 0x7feb4a7ebeb0>"
            ]
          },
          "metadata": {},
          "execution_count": 7
        },
        {
          "output_type": "display_data",
          "data": {
            "text/plain": [
              "<Figure size 432x288 with 1 Axes>"
            ],
            "image/png": "[encoded data removed]"
          },
          "metadata": {
            "needs_background": "light"
          }
        }
      ]
    },
    {
      "cell_type": "code",
      "source": [
        "def train_perceptron(x, y, w):  \n",
        "  iter = 0\n",
        "  boo = True\n",
        "  while(boo):\n",
        "    iter += 1\n",
        "    nb_changes = 0\n",
        "    for i in range(x.size(0)):\n",
        "      if x[i].dot(w) * y[i] <= 0:\n",
        "        w = w + y[i] * x[i]\n",
        "        nb_changes = nb_changes + 1\n",
        "    #print('Number of changes: %d'%nb_changes) # prints the number of changes every epoch\n",
        "    if nb_changes == 0:\n",
        "        boo = False;\n",
        "  print('Number of iterations: %d'%iter)  # prints the number of chages in the end  \n",
        "  return w"
      ],
      "metadata": {
        "id": "HBQfc7QNP9ws"
      },
      "execution_count": 8,
      "outputs": []
    },
    {
      "cell_type": "code",
      "source": [
        "ans = torch.Tensor([0, 0, 0])\n",
        "dset1 = torch.from_numpy(dset1)\n",
        "dset2 = torch.from_numpy(dset2)\n",
        "\n",
        "dset = torch.empty(2000, dset1.size(1)+1).fill_(1)\n",
        "dset[::2, :2] = dset1\n",
        "dset[1::2, :2] = dset2\n",
        "\n",
        "dlabels = torch.empty(2000, 1)\n",
        "dlabels[::2, :2] = -1.0\n",
        "dlabels[1::2, :2] = 1.0\n",
        "ans = train_perceptron(dset, dlabels, ans)"
      ],
      "metadata": {
        "colab": {
          "base_uri": "https://localhost:8080/"
        },
        "id": "ysW1IP_iQTLg",
        "outputId": "c56cbf3c-a648-4eb9-e841-c94e7551d094"
      },
      "execution_count": 9,
      "outputs": [
        {
          "output_type": "stream",
          "name": "stdout",
          "text": [
            "Number of iterations: 7\n"
          ]
        }
      ]
    },
    {
      "cell_type": "code",
      "source": [
        "x = np.linspace(-5,5,100)\n",
        "y = -(ans[0].item()/ans[1].item())*x - (ans[2].item()/ans[1].item())\n",
        "plt.plot(x, y, '-r', label='W')\n",
        "plt.title('Graph of W after training')\n",
        "plt.xlabel('x', color='#1C2833')\n",
        "plt.ylabel('y', color='#1C2833')\n",
        "plt.legend(loc='upper left')\n",
        "plt.scatter(dset1[:,0], dset1[:,1])\n",
        "plt.scatter(dset2[:,0], dset2[:,1])\n",
        "plt.grid()\n",
        "plt.show()\n",
        "print(ans)"
      ],
      "metadata": {
        "colab": {
          "base_uri": "https://localhost:8080/",
          "height": 313
        },
        "id": "OVG_7zEdVnXn",
        "outputId": "50bfaea2-fbed-419c-9410-fa104c7f422f"
      },
      "execution_count": 10,
      "outputs": [
        {
          "output_type": "display_data",
          "data": {
            "text/plain": [
              "<Figure size 432x288 with 1 Axes>"
            ],
            "image/png": "[encoded data removed]"
          },
          "metadata": {
            "needs_background": "light"
          }
        },
        {
          "output_type": "stream",
          "name": "stdout",
          "text": [
            "tensor([  7.2397,   6.3840, -23.0000])\n"
          ]
        }
      ]
    },
    {
      "cell_type": "markdown",
      "source": [
        "Q2"
      ],
      "metadata": {
        "id": "CRQeJUEjXvWx"
      }
    },
    {
      "cell_type": "code",
      "source": [
        "ans = torch.Tensor([0, 0, 0])\n",
        "threshold = 1000\n",
        "prevloss = -1000\n",
        "alpha = 1\n",
        "iter = 0\n",
        "while threshold > 1:\n",
        "  iter += 1\n",
        "  loss = 0\n",
        "  grad = torch.Tensor([0, 0, 0])\n",
        "  for i in range(2000):\n",
        "    temp = 1 - dlabels[i]*(ans.dot(dset[i]))\n",
        "    if temp > 0:\n",
        "      loss += temp\n",
        "      tem = torch.Tensor(3*[dlabels[i]])\n",
        "      grad += torch.Tensor([1, 1, 1]) - tem*dset[i]\n",
        "      #torch.Tensor([dlabels[i]*dset[i][0], dlabels[i]*dset[i][1], dlabels[i]*dset[i][2]])\n",
        "  threshold = abs(loss - prevloss)\n",
        "  print(threshold)\n",
        "  grad = grad / dlabels.size()[0]\n",
        "  prevloss = loss\n",
        "  ans = ans - alpha * grad\n",
        "print(iter)\n",
        "#print(ans)"
      ],
      "metadata": {
        "colab": {
          "base_uri": "https://localhost:8080/"
        },
        "id": "Hk-Gc5yhXwzc",
        "outputId": "64bfc5aa-e032-4df2-9c1e-5adc5bd0a1fc"
      },
      "execution_count": 11,
      "outputs": [
        {
          "output_type": "stream",
          "name": "stdout",
          "text": [
            "tensor([3000.])\n",
            "tensor([1720.8694])\n",
            "tensor([987.2128])\n",
            "tensor([890.8539])\n",
            "tensor([219.8613])\n",
            "tensor([79.8164])\n",
            "tensor([30.5811])\n",
            "tensor([14.5578])\n",
            "tensor([3.1802])\n",
            "tensor([7.8838])\n",
            "tensor([3.1397])\n",
            "tensor([2.9518])\n",
            "tensor([3.5927])\n",
            "tensor([2.3045])\n",
            "tensor([3.1626])\n",
            "tensor([1.6140])\n",
            "tensor([1.5098])\n",
            "tensor([0.3496])\n",
            "18\n"
          ]
        }
      ]
    },
    {
      "cell_type": "code",
      "source": [
        "x = np.linspace(-5,5,100)\n",
        "y = -(ans[0].item()/ans[1].item())*x - (ans[2].item()/ans[1].item())\n",
        "plt.plot(x, y, '-r', label='W')\n",
        "plt.title('Graph of W after training')\n",
        "plt.xlabel('x', color='#1C2833')\n",
        "plt.ylabel('y', color='#1C2833')\n",
        "plt.legend(loc='upper left')\n",
        "plt.scatter(dset1[:,0], dset1[:,1])\n",
        "plt.scatter(dset2[:,0], dset2[:,1])\n",
        "plt.grid()\n",
        "plt.show()\n",
        "print(ans)"
      ],
      "metadata": {
        "colab": {
          "base_uri": "https://localhost:8080/",
          "height": 313
        },
        "id": "8iS8W5LsAAsC",
        "outputId": "710ea94c-84a7-49f4-d567-341df442ce03"
      },
      "execution_count": 12,
      "outputs": [
        {
          "output_type": "display_data",
          "data": {
            "text/plain": [
              "<Figure size 432x288 with 1 Axes>"
            ],
            "image/png": "[encoded data removed]"
          },
          "metadata": {
            "needs_background": "light"
          }
        },
        {
          "output_type": "stream",
          "name": "stdout",
          "text": [
            "tensor([ 0.8792,  0.8246, -2.9030])\n"
          ]
        }
      ]
    },
    {
      "cell_type": "markdown",
      "source": [
        "Q3"
      ],
      "metadata": {
        "id": "5k8-R9xFNl3V"
      }
    },
    {
      "cell_type": "code",
      "source": [
        "r1 = 3\n",
        "r2 = 5\n",
        "\n",
        "d1 = []\n",
        "#d1 = np.array(500 * [np.array([random.random(), random.random()])])\n",
        "for i in range(500):\n",
        "  temp = np.array([random.uniform(-1, 1), random.uniform(-1, 1)])\n",
        "  temp = r1 * temp / (np.sqrt(temp[0]**2 + temp[1]**2))\n",
        "  d1.append(temp)\n",
        "\n",
        "d1 = np.array(d1)\n",
        "d2 = []\n",
        "for i in range(500):\n",
        "  temp = np.array([random.uniform(-1, 1), random.uniform(-1, 1)])\n",
        "  temp = r2 * temp / (np.sqrt(temp[0]**2 + temp[1]**2))\n",
        "  d2.append(temp)\n",
        "\n",
        "d2 = np.array(d2)\n"
      ],
      "metadata": {
        "id": "i202rnvQNnzD"
      },
      "execution_count": 131,
      "outputs": []
    },
    {
      "cell_type": "code",
      "source": [
        "plt.scatter(d1[:,0], d1[:,1])\n",
        "plt.scatter(d2[:,0], d2[:,1])"
      ],
      "metadata": {
        "colab": {
          "base_uri": "https://localhost:8080/",
          "height": 283
        },
        "id": "Zbuu-qU7Qrk2",
        "outputId": "29078535-e8bc-47e9-8cff-fe8138b93a2c"
      },
      "execution_count": 132,
      "outputs": [
        {
          "output_type": "execute_result",
          "data": {
            "text/plain": [
              "<matplotlib.collections.PathCollection at 0x7feb4131ef40>"
            ]
          },
          "metadata": {},
          "execution_count": 132
        },
        {
          "output_type": "display_data",
          "data": {
            "text/plain": [
              "<Figure size 432x288 with 1 Axes>"
            ],
            "image/png": "[encoded data removed]"
          },
          "metadata": {
            "needs_background": "light"
          }
        }
      ]
    },
    {
      "cell_type": "code",
      "source": [
        "w1 = torch.rand(3, 3)\n",
        "w2 = torch.rand(3,1)\n",
        "b1 = torch.rand(1, 3)\n",
        "b2 = torch.rand(1,1)\n",
        "d1 = torch.from_numpy(d1)\n",
        "d2 = torch.from_numpy(d2)\n",
        "d = torch.empty(1000, d1.size(1)+1).fill_(1)\n",
        "d[::2, :2] = d1\n",
        "d[1::2, :2] = d2\n",
        "\n",
        "dl = torch.empty(1000, 1)\n",
        "dl[::2, :2] = -1.0\n",
        "dl[1::2, :2] = 1.0\n",
        "#print(dl)"
      ],
      "metadata": {
        "id": "6mYMMZ9RRht7"
      },
      "execution_count": 133,
      "outputs": []
    },
    {
      "cell_type": "code",
      "source": [
        "def Sigmoder(x):\n",
        "  return x*(1-x)\n",
        "\n",
        "def tanh(x):\n",
        "  return np.tanh(x)\n",
        "\n",
        "def tanhh(x):\n",
        "  return 1 - (np.tanh(x)**2)\n"
      ],
      "metadata": {
        "id": "lH9I6I7aCoOM"
      },
      "execution_count": 134,
      "outputs": []
    },
    {
      "cell_type": "code",
      "source": [
        "def MLP(X,Y,W1,W2,b1, b2):\n",
        "\n",
        "  net = 0.1\n",
        "  iter = 0\n",
        "\n",
        "  while iter<5000:\n",
        "    iter+=1\n",
        "\n",
        "    #forwardpass \n",
        "    # print(W2.shape,\"w2\")\n",
        "\n",
        "    x1 = torch.matmul(X,W1) + b1\n",
        "    # print(x1.shape, \"x1.shape\")\n",
        "\n",
        "    acx1 = tanh(x1)\n",
        "    # print(acx1.shape, \"acx1.shape\")\n",
        "    # onee = torch.ones(1000, 1)\n",
        "    # acx1 = torch.cat((acx1, onee), 1)\n",
        "\n",
        "    x2 = torch.matmul(acx1,W2)+b2\n",
        "    # print(x2.shape,\"x2.shape\")\n",
        "\n",
        "    acx2 = tanh(x2)\n",
        "    # print(acx2.shape, \"acx2 shape\")\n",
        "\n",
        "    #loss = Loss(Y,acx2)\n",
        "\n",
        "\n",
        "    #backprop\n",
        "    # print(Y.shape)\n",
        "    dz2 = (acx2 -Y)\n",
        "    # print(dz2.shape, \"dz2 shape\")\n",
        "\n",
        "    dw2 = torch.matmul(acx1.T,dz2)/(X.size(0))\n",
        "    db2 = torch.sum(dz2)/(X.size(0))\n",
        "\n",
        "    # print(dw2.shape, \" dw2 shape\")\n",
        "\n",
        "    dz1 = torch.matmul(dz2,W2.T)*tanhh(acx1)\n",
        "    # print(dz1.shape, \" dz1 shape\")\n",
        "\n",
        "    dw1 = torch.matmul(X.T,dz1)/X.size(0)\n",
        "    # print(dw1.shape, \" dw1 shape\")\n",
        "    db1 = torch.sum(dz1, axis=0)/(X.size(0))\n",
        "\n",
        "\n",
        "    #updations\n",
        "    W2 = W2 - net*(dw2)\n",
        "    W1 = W1 - net*dw1\n",
        "    b2 = b2 - net*db2\n",
        "    b1 = b1 - net*db1\n",
        "  # print(iter)\n",
        "\n",
        "  return W1,W2,b1, b2\n",
        "\n"
      ],
      "metadata": {
        "id": "-RNSXpxX4zIl"
      },
      "execution_count": 135,
      "outputs": []
    },
    {
      "cell_type": "code",
      "source": [
        "MLP(d,dl,w1,w2,b1, b2)"
      ],
      "metadata": {
        "colab": {
          "base_uri": "https://localhost:8080/"
        },
        "id": "h8k05gPswJXv",
        "outputId": "46408bb9-ffee-4ea8-ee00-6af3c4607858"
      },
      "execution_count": 136,
      "outputs": [
        {
          "output_type": "execute_result",
          "data": {
            "text/plain": [
              "(tensor([[ 0.3419, -0.4570,  0.1302],\n",
              "         [ 0.3697,  0.1207, -0.4237],\n",
              "         [ 0.5880,  0.2712,  0.4366]]), tensor([[-4.7939],\n",
              "         [-4.8466],\n",
              "         [-4.8774]]), tensor([[0.7689, 0.9685, 0.6912]]), tensor([[7.1784]]))"
            ]
          },
          "metadata": {},
          "execution_count": 136
        }
      ]
    },
    {
      "cell_type": "code",
      "source": [
        "# CALCULATING ACTIVATION \n",
        "fig1 = []\n",
        "fig2 = []\n",
        "\n",
        "for i in d:\n",
        "  x1 = torch.matmul(i,w1) + b1\n",
        "  acx1 = tanh(x1)\n",
        "      # print(acx1.shape, \"acx1.shape\")\n",
        "      # onee = torch.ones(1000, 1)\n",
        "      # acx1 = torch.cat((acx1, onee), 1)\n",
        "\n",
        "  x2 = torch.matmul(acx1,w2) + b2\n",
        "  #print(x2.shape,\"x2.shape\")\n",
        "\n",
        "  acx2 = tanh(x2)\n",
        "  if acx2 > 0.5:\n",
        "    fig1.append([i[0], i[1]])\n",
        "  else:\n",
        "    fig2.append([i[0], i[1]])\n",
        "\n",
        "\n",
        "# print(acx2)\n",
        "\n",
        "# print(dl[315])\n",
        "# x1 = torch.matmul(d[347],w1)\n",
        "# #print(x1.shape, \"x1.shape\")\n",
        "\n",
        "# acx1 = 1/(1+torch.exp(-x1))\n",
        "#     # print(acx1.shape, \"acx1.shape\")\n",
        "#     # onee = torch.ones(1000, 1)\n",
        "#     # acx1 = torch.cat((acx1, onee), 1)\n",
        "\n",
        "# x2 = torch.matmul(acx1,w2)+b\n",
        "# print(x2.shape,\"x2.shape\")\n",
        "\n",
        "# acx2 = 1/(1+torch.exp(-x2))\n",
        "\n",
        "# print(acx2)\n",
        "# print(dl[147])\n",
        "\n",
        "\n",
        "\n"
      ],
      "metadata": {
        "id": "hoZjlK1bzawg",
        "colab": {
          "base_uri": "https://localhost:8080/",
          "height": 283
        },
        "outputId": "8be8c814-90e9-4553-926e-37d409cec887"
      },
      "execution_count": 138,
      "outputs": [
        {
          "output_type": "execute_result",
          "data": {
            "text/plain": [
              "<matplotlib.collections.PathCollection at 0x7feb412929a0>"
            ]
          },
          "metadata": {},
          "execution_count": 138
        },
        {
          "output_type": "display_data",
          "data": {
            "text/plain": [
              "<Figure size 432x288 with 1 Axes>"
            ],
            "image/png": "[encoded data removed]"
          },
          "metadata": {
            "needs_background": "light"
          }
        }
      ]
    }
  ]
}